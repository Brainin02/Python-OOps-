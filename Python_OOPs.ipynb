{
  "nbformat": 4,
  "nbformat_minor": 0,
  "metadata": {
    "colab": {
      "provenance": []
    },
    "kernelspec": {
      "name": "python3",
      "display_name": "Python 3"
    },
    "language_info": {
      "name": "python"
    }
  },
  "cells": [
    {
      "cell_type": "markdown",
      "source": [
        "1.  What is Object-Oriented Programming (OOP)+\n",
        "\n",
        "ans- Object-Oriented Programming (OOP) is a programming paradigm based on the concept of objects, which are instances of classes. It organizes code into reusable structures that represent real-world entities, making it easier to develop, maintain, and scale software.\n",
        "\n",
        "2. What is a class in OOP+\n",
        "\n",
        "ans. A class in Object-Oriented Programming (OOP) is a blueprint or template for creating objects. It defines the attributes (data) and methods (functions) that the objects created from the class will have.\n",
        "\n",
        "3. What is an object in OOP+\n",
        "\n",
        "ans. An object is an instance of a class in Object-Oriented Programming (OOP). It represents a real-world entity and has its own state (attributes) and behavior (methods).\n",
        "\n",
        "4. What is the difference between abstraction and encapsulation+\n",
        "\n",
        "ans. Difference Between Abstraction and Encapsulation\n",
        "\n",
        "a)Abstraction\n",
        "\n",
        "Definition: Hiding implementation details and showing only necessary functionality.\n",
        "\n",
        "Purpose:\tFocuses on hiding complexity to simplify interaction with the system.\n",
        "\n",
        "How?\tAchieved using abstract classes, interfaces.\n",
        "\n",
        "Example\t:A car’s interface (steering, pedals) hides the internal working of the engine.\n",
        "\n",
        "Scope\t:Deals with what an object does (design-level concept).\n",
        "\n",
        "b)Encapsulation:\n",
        "\n",
        "Definition.\tWrapping data and methods into a single unit to protect them.\n",
        "\n",
        "Purpose\t.\tFocuses on data protection and preventing unauthorized access.\n",
        "\n",
        "How?\t.\tAchieved using access modifiers (private, protected, public).\n",
        "\n",
        "Example\t:\tThe engine components inside the car are hidden from the user, accessible only to authorized mechanics.\n",
        "\n",
        "Scope\t:\tDeals with how data is restricted (implementation-level concept).\n",
        "\n",
        "5.  What are dunder methods in Python+\n",
        "\n",
        "ans. Dunder (short for double underscore) methods, also known as magic methods or special methods, are built-in methods in Python that have double underscores (__) at the beginning and end of their names. These methods define how objects of a class behave with Python’s built-in functions and operators.\n",
        "\n",
        "6.  Explain the concept of inheritance in OOPH\n",
        "\n",
        "ans. Inheritance is a fundamental concept in OOP that allows a class (child/subclass) to inherit attributes and methods from another class (parent/superclass). This promotes code reusability and enables the creation of hierarchical relationships between classes.\n",
        "\n",
        "7. What is polymorphism in OOP+\n",
        "\n",
        "ans. Polymorphism means \"many forms\" and allows objects of different classes to be treated as objects of a common superclass. It enables one interface to be used for different data types, promoting flexibility and reusability in code.\n",
        "\n",
        "8. H How is encapsulation achieved in Python+\n",
        "\n",
        "ans. Encapsulation is a fundamental OOP concept that restricts direct access to data and bundles attributes and methods into a single unit (class) to protect it from unintended modifications.\n",
        "\n",
        "In Python, encapsulation is achieved using access modifiers:\n",
        "\n",
        "a)Public (public_var) – Accessible from anywhere.\n",
        "\n",
        "b)Protected (_protected_var) – Should not be accessed outside the class\n",
        "(by convention, not enforced).\n",
        "\n",
        "c)Private (__private_var) – Cannot be accessed directly outside the class.\n",
        "\n",
        "9. What is a constructor in Python+\n",
        "\n",
        "ans. A constructor is a special method in a class that automatically gets called when an object is created. In Python, the constructor method is __init__(). It is used to initialize attributes of the class.\n",
        "\n",
        "10. What are class and static methods in Python+\n",
        "\n",
        "ans. Python provides two special types of methods:\n",
        "\n",
        "Class Methods (@classmethod) – Operate on the class itself rather than instances.\n",
        "\n",
        "Static Methods (@staticmethod) – Independent of the class and instance, used for utility functions.\n",
        "\n",
        "11. What is method overloading in Python+\n",
        "\n",
        "ans. Method Overloading allows a class to define multiple methods with the same name but different parameters. It enables a function to handle different types or numbers of arguments.\n",
        "\n",
        "Python does not support true method overloading like Java or C++, but we can achieve similar functionality using:\n",
        "\n",
        "Default arguments\n",
        "\n",
        "*args (variable-length arguments)\n",
        "\n",
        "@singledispatch (Function Overloading)\n",
        "\n",
        "12. What is method overriding in OOP+\n",
        "\n",
        "ans. Method Overriding is a feature in Object-Oriented Programming (OOP) where a subclass provides a specific implementation of a method that is already defined in its parent class.\n",
        "\n",
        "Key Points:\n",
        "\n",
        "The method name and parameters must be the same in both parent and child classes.\n",
        "\n",
        "It is used to customize behavior in the subclass.\n",
        "\n",
        "The overridden method in the child class replaces the parent class method when called on a child object.\n",
        "\n",
        "We can still access the parent class method using super().\n",
        "\n",
        "13. What is a property decorator in Python+\n",
        "\n",
        "ans. What is a Property Decorator (@property) in Python?\n",
        "The @property decorator in Python is used to define getter methods for class attributes, allowing them to be accessed like regular attributes while still enforcing encapsulation.\n",
        "\n",
        " Key Benefits:\n",
        "\n",
        "Encapsulation: Controls access to private attributes.\n",
        "\n",
        "Read-Only Properties: Prevents direct modification of sensitive attributes.\n",
        "\n",
        "Computed Properties: Returns a value dynamically instead of storing it.\n",
        "\n",
        "Cleaner Syntax: Allows method access without parentheses (()).\n",
        "\n",
        "14. Why is polymorphism important in OOP+\n",
        "\n",
        "ans. Polymorphism is a fundamental concept in Object-Oriented Programming (OOP) that allows objects of different classes to be treated as objects of a common superclass. This provides flexibility, extensibility, and maintainability in software design.\n",
        "\n",
        "15. What is an abstract class in Python+\n",
        "\n",
        "ans. What is an Abstract Class in Python?\n",
        "An abstract class in Python is a class that cannot be instantiated and serves as a blueprint for other classes. It defines abstract methods that must be implemented by subclasses.\n",
        "\n",
        "Key Points:\n",
        "\n",
        " Defined using the ABC (Abstract Base Class) module.\n",
        "\n",
        " Contains at least one abstract method (declared but not implemented).\n",
        "\n",
        " Cannot be instantiated (i.e., you can't create objects from it).\n",
        "\n",
        " Forces subclasses to implement required methods for consistency.\n",
        "\n",
        "16. What are the advantages of OOP+\n",
        "\n",
        "ans. Object-Oriented Programming (OOP) is a powerful programming paradigm that organizes code using objects and classes. It provides several benefits that make software modular, reusable, and scalable.\n",
        "\n",
        "Key Advantages of OOP\n",
        "\n",
        "Code Reusability (Inheritance)\n",
        "\n",
        "OOP allows you to reuse existing code instead of writing it from scratch.\n",
        "\n",
        "Inheritance enables a new class (child) to inherit properties and methods from an existing class (parent).\n",
        "\n",
        "Encapsulation (Data Security)\n",
        "\n",
        " Encapsulation hides the internal details of an object and exposes only the necessary parts.\n",
        "\n",
        " Prevents direct access to sensitive data, reducing bugs and security risks.\n",
        "\n",
        " Code Maintainability & Scalability\n",
        "\n",
        "OOP makes code easier to manage and extend as software grows.\n",
        "\n",
        "Modifications can be made without affecting the entire system.\n",
        "\n",
        "Polymorphism (Flexibility & Dynamic Behavior)\n",
        "\n",
        " Polymorphism allows the same method to be used by different classes.\n",
        "\n",
        " Supports dynamic method binding (decides method execution at runtime).\n",
        "\n",
        " Modularity (Organized & Readable Code)\n",
        "\n",
        "OOP organizes code into classes and objects, making it modular.\n",
        "\n",
        "Each class represents a self-contained unit, reducing complexity.\n",
        "\n",
        "\n",
        "\n",
        "17. What is the difference between a class variable and an instance variable+\n",
        "\n",
        "ans. Difference Between Class Variable and Instance Variable in Python\n",
        "In Object-Oriented Programming (OOP), variables in a class can be classified into class variables and instance variables based on their scope, behavior, and storage.\n",
        "\n",
        "Class Variable\n",
        "\n",
        "Definition: A class variable is shared among all instances (objects) of a class.\n",
        "\n",
        "Scope: Defined at the class level and accessed using the class name.\n",
        "\n",
        "Storage: Stored in a single memory location for all objects.\n",
        "\n",
        "Modification: Changing it affects all instances unless overridden in an instance.\n",
        "\n",
        "Instance Variable\n",
        "\n",
        "Definition: An instance variable is unique for each object (instance).\n",
        "\n",
        "Scope: Defined inside the constructor (__init__) using self.\n",
        "\n",
        " Storage: Each instance has its own copy of instance variables.\n",
        "\n",
        " Modification: Changing an instance variable affects only that instance.\n",
        "\n",
        " 18. What is multiple inheritance in Python+\n",
        "\n",
        " ans. Multiple inheritance is a feature in Python where a class can inherit from more than one parent class. This allows a child class to have attributes and methods from multip\n",
        "\n",
        " 19. Explain the purpose of ‘’__str__’ and ‘__repr__’ ‘ methods in Python\n",
        "\n",
        " ans. __str__ vs __repr__ Methods in Python\n",
        "In Python, __str__ and __repr__ are dunder (double underscore) methods that define how objects are represented as strings. These methods help improve readability and debugging by customizing how objects appear when printed or inspected.\n",
        "\n",
        "20. What is the significance of the ‘super()’ function in Python+\n",
        "\n",
        "ans. The super() function is used in object-oriented programming (OOP) to call a method from a parent class in a child class. It allows you to avoid directly referring to the parent class, making your code more maintainable and flexible.\n",
        "\n",
        "\n",
        "\n",
        "21. What is the significance of the __del__ method in Python+\n",
        "\n",
        "ans. The __del__ method is Python’s destructor method, called automatically when an object is about to be destroyed (garbage collected). It is used for cleanup tasks like closing files, releasing resources, or logging object deletion.\n",
        "\n",
        "22. What is the difference between @staticmethod and @classmethod in Python+\n",
        "\n",
        "ans. @staticmethod vs @classmethod in Python\n",
        "In Python, @staticmethod and @classmethod are decorators used to define special types of methods inside a class. While both methods can be called without creating an instance, they serve different purposes.\n",
        "\n",
        "@staticmethod (Independent Function in a Class)\n",
        "\n",
        "Purpose: Defines a method that does not depend on instance (self) or class (cls).\n",
        "\n",
        "Works Like: A regular function inside a class (it does not modify or access class/instance attributes).\n",
        "\n",
        "Usage: Utility/helper methods that are logically related to the class but don’t need class or instance data.\n",
        "\n",
        " @classmethod (Works with the Class, Not Instance)\n",
        "Purpose: Defines a method that works with the class itself (cls) instead of instance (self).\n",
        "\n",
        "Works Like: A method that modifies or accesses class-level attributes.\n",
        "\n",
        "Usage: Alternative constructors, class state modifications.\n",
        "\n",
        "\n",
        "23. How does polymorphism work in Python with inheritance+\n",
        "\n",
        "ans. Polymorphism allows objects of different classes to be treated as if they were objects of a common base class. It enables a single interface (method) to be used for different types of objects.\n",
        "\n",
        "In Python, polymorphism is implemented using:\n",
        "\n",
        "1)Method Overriding (Inheritance-based Polymorphism)\n",
        "\n",
        "2️)Duck Typing (Dynamic Polymorphism)\n",
        "\n",
        "3️)Operator Overloading (Ad-hoc Polymorphism)\n",
        "\n",
        "24. What is method chaining in Python OOP+\n",
        "\n",
        "ans. Method chaining is a technique where multiple methods are called on the same object in a single statement, improving code readability and fluency.\n",
        "\n",
        " Key Points:\n",
        "\n",
        "Each method returns self (the same object) to allow chaining.\n",
        "\n",
        "Used for fluent interfaces, such as in data manipulation libraries (e.g., Pandas, SQLAlchemy).\n",
        "\n",
        "Enhances code clarity by avoiding intermediate variables.\n",
        "\n",
        "25. What is the purpose of the __call__ method in Python?\n",
        "\n",
        "ans. The __call__ method in Python allows an instance of a class to be called as a function. This means that after creating an object, you can use object_name() just like a regular function.\n",
        "\n",
        "Key Features:\n",
        "\n",
        "Allows an object to behave like a function.\n",
        "\n",
        "Useful for creating callable objects, such as function wrappers or decorators.\n",
        "\n",
        "Provides an alternative to defining a separate method like .execute().\n"
      ],
      "metadata": {
        "id": "GYKRsfa1-EPM"
      }
    },
    {
      "cell_type": "code",
      "source": [
        "#Create a parent class Animal with a method speak() that prints a generic message. Create a child class Dog\n",
        "#that overrides the speak() method to print \"Bark!\".\n",
        "class Animal:\n",
        "    def speak(self):\n",
        "        print(\"This animal makes a sound.\")\n",
        "\n",
        "class Dog(Animal):\n",
        "    def speak(self):\n",
        "        print(\"Bark!\")\n",
        "generic_animal = Animal()\n",
        "dog = Dog()\n",
        "generic_animal.speak()\n",
        "dog.speak()\n"
      ],
      "metadata": {
        "colab": {
          "base_uri": "https://localhost:8080/"
        },
        "id": "eFcPltakKoSK",
        "outputId": "71e8a4f9-2c5a-42f5-8d82-9985affa490a"
      },
      "execution_count": 1,
      "outputs": [
        {
          "output_type": "stream",
          "name": "stdout",
          "text": [
            "This animal makes a sound.\n",
            "Bark!\n"
          ]
        }
      ]
    },
    {
      "cell_type": "code",
      "source": [
        "#Write a program to create an abstract class Shape with a method area(). Derive classes Circle and Rectangle\n",
        "#from it and implement the area() method in both.\n",
        "#from abc import ABC, abstractmethod\n",
        "#import math\n",
        "\n",
        "from abc import ABC, abstractmethod\n",
        "import math\n",
        "\n",
        "# Abstract class\n",
        "class Shape(ABC):\n",
        "    @abstractmethod\n",
        "    def area(self):\n",
        "        pass  # Abstract method with no implementation\n",
        "\n",
        "# Derived class: Circle\n",
        "class Circle(Shape):\n",
        "    def __init__(self, radius):\n",
        "        self.radius = radius\n",
        "\n",
        "    def area(self):\n",
        "        return math.pi * self.radius ** 2\n",
        "\n",
        "# Derived class: Rectangle\n",
        "class Rectangle(Shape):\n",
        "    def __init__(self, length, width):\n",
        "        self.length = length\n",
        "        self.width = width\n",
        "\n",
        "    def area(self):\n",
        "        return self.length * self.width\n",
        "\n",
        "# Creating objects\n",
        "circle = Circle(5)\n",
        "rectangle = Rectangle(4, 6)\n",
        "\n",
        "print(f\"Circle Area: {circle.area():.2f}\")\n",
        "print(f\"Rectangle Area: {rectangle.area()}\")\n"
      ],
      "metadata": {
        "colab": {
          "base_uri": "https://localhost:8080/"
        },
        "id": "Z4ZIm1pkK_6N",
        "outputId": "2aad9294-c400-4bc7-c6ec-02fbb5506f52"
      },
      "execution_count": 6,
      "outputs": [
        {
          "output_type": "stream",
          "name": "stdout",
          "text": [
            "Circle Area: 78.54\n",
            "Rectangle Area: 24\n"
          ]
        }
      ]
    },
    {
      "cell_type": "code",
      "source": [
        "# Implement a multi-level inheritance scenario where a class Vehicle has an attribute type. Derive a class Car\n",
        "#and further derive a class ElectricCar that adds a battery attribute.\n",
        "# Base class\n",
        "# Base class\n",
        "class Vehicle:\n",
        "    def __init__(self, type):\n",
        "        self.type = type\n",
        "\n",
        "    def show_type(self):\n",
        "        print(f\"Vehicle Type: {self.type}\")\n",
        "\n",
        "class Car(Vehicle):\n",
        "    def __init__(self, brand, type=\"Car\"):\n",
        "        super().__init__(type)\n",
        "        self.brand = brand\n",
        "\n",
        "    def show_brand(self):\n",
        "        print(f\"Car Brand: {self.brand}\")\n",
        "\n",
        "class ElectricCar(Car):\n",
        "    def __init__(self, brand, battery_capacity):\n",
        "        super().__init__(brand)\n",
        "        self.battery_capacity = battery_capacity\n",
        "\n",
        "    def show_battery(self):\n",
        "        print(f\"Battery Capacity: {self.battery_capacity} kWh\")\n",
        "\n",
        "tesla = ElectricCar(\"Tesla\", 75)\n",
        "\n",
        "tesla.show_type()\n",
        "tesla.show_brand()\n",
        "tesla.show_battery()\n"
      ],
      "metadata": {
        "colab": {
          "base_uri": "https://localhost:8080/"
        },
        "id": "SUOBvkzPLy1O",
        "outputId": "4c8b59fa-6b90-402b-cccb-aac6c2d20502"
      },
      "execution_count": 7,
      "outputs": [
        {
          "output_type": "stream",
          "name": "stdout",
          "text": [
            "Vehicle Type: Car\n",
            "Car Brand: Tesla\n",
            "Battery Capacity: 75 kWh\n"
          ]
        }
      ]
    },
    {
      "cell_type": "code",
      "source": [
        "# Demonstrate polymorphism by creating a base class Bird with a method fly(). Create two derived classes\n",
        "#Sparrow and Penguin that override the fly() method.\n",
        "# Base class\n",
        "class Bird:\n",
        "    def fly(self):\n",
        "        print(\"Some birds can fly.\")\n",
        "\n",
        "class Sparrow(Bird):\n",
        "    def fly(self):\n",
        "        print(\"Sparrow flies high in the sky.\")\n",
        "\n",
        "class Penguin(Bird):\n",
        "    def fly(self):\n",
        "        print(\"Penguins cannot fly, they swim instead.\")\n",
        "\n",
        "def bird_flight(bird):\n",
        "    bird.fly()\n",
        "\n",
        "sparrow = Sparrow()\n",
        "penguin = Penguin()\n",
        "\n",
        "bird_flight(sparrow)\n",
        "bird_flight(penguin)\n"
      ],
      "metadata": {
        "colab": {
          "base_uri": "https://localhost:8080/"
        },
        "id": "gHtxh5zyMLS1",
        "outputId": "d6dbb1aa-2ff8-4ec2-df85-0a758ac5d3b0"
      },
      "execution_count": 8,
      "outputs": [
        {
          "output_type": "stream",
          "name": "stdout",
          "text": [
            "Sparrow flies high in the sky.\n",
            "Penguins cannot fly, they swim instead.\n"
          ]
        }
      ]
    },
    {
      "cell_type": "code",
      "source": [
        "#Write a program to demonstrate encapsulation by creating a class BankAccount with private attributes\n",
        "#balance and methods to deposit, withdraw, and check balance.\n",
        "class BankAccount:\n",
        "    def __init__(self, account_holder, initial_balance=0):\n",
        "        self.account_holder = account_holder\n",
        "        self.__balance = initial_balance  # Private attribute\n",
        "\n",
        "    def deposit(self, amount):\n",
        "        if amount > 0:\n",
        "            self.__balance += amount\n",
        "            print(f\"Deposited ${amount}. New balance: ${self.__balance}\")\n",
        "        else:\n",
        "            print(\"Deposit amount must be positive.\")\n",
        "\n",
        "    def withdraw(self, amount):\n",
        "        if 0 < amount <= self.__balance:\n",
        "            self.__balance -= amount\n",
        "            print(f\"Withdrew ${amount}. Remaining balance: ${self.__balance}\")\n",
        "        else:\n",
        "            print(\"Insufficient funds or invalid amount.\")\n",
        "\n",
        "    def check_balance(self):\n",
        "        print(f\"{self.account_holder}'s Balance: ${self.__balance}\")\n",
        "\n",
        "account = BankAccount(\"Alice\", 1000)\n",
        "\n",
        "account.deposit(500)\n",
        "account.withdraw(200)\n",
        "account.check_balance()\n",
        "\n"
      ],
      "metadata": {
        "colab": {
          "base_uri": "https://localhost:8080/"
        },
        "id": "U5VR6dSBMfki",
        "outputId": "625dbda2-3758-422a-a1fd-f4ecac656ed6"
      },
      "execution_count": 9,
      "outputs": [
        {
          "output_type": "stream",
          "name": "stdout",
          "text": [
            "Deposited $500. New balance: $1500\n",
            "Withdrew $200. Remaining balance: $1300\n",
            "Alice's Balance: $1300\n"
          ]
        }
      ]
    },
    {
      "cell_type": "code",
      "source": [
        "#Demonstrate runtime polymorphism using a method play() in a base class Instrument. Derive classes Guitar\n",
        "#and Piano that implement their own version of play().\n",
        "# Base class\n",
        "class Instrument:\n",
        "    def play(self):\n",
        "        print(\"Playing an instrument...\")\n",
        "\n",
        "class Guitar(Instrument):\n",
        "    def play(self):\n",
        "        print(\"Strumming the guitar !\")\n",
        "\n",
        "class Piano(Instrument):\n",
        "    def play(self):\n",
        "        print(\"Playing the piano !\")\n",
        "\n",
        "def start_playing(instrument):\n",
        "    instrument.play()\n",
        "\n",
        "guitar = Guitar()\n",
        "piano = Piano()\n",
        "\n",
        "\n",
        "start_playing(guitar)\n",
        "start_playing(piano)\n",
        "\n"
      ],
      "metadata": {
        "colab": {
          "base_uri": "https://localhost:8080/"
        },
        "id": "2yihG_Q4MxKX",
        "outputId": "f67abc82-f57b-48e2-d8da-401b9473731e"
      },
      "execution_count": 10,
      "outputs": [
        {
          "output_type": "stream",
          "name": "stdout",
          "text": [
            "Strumming the guitar !\n",
            "Playing the piano !\n"
          ]
        }
      ]
    },
    {
      "cell_type": "code",
      "source": [
        "# Create a class MathOperations with a class method add_numbers() to add two numbers and a static\n",
        "#method subtract_numbers() to subtract two numbers.\n",
        "class MathOperations:\n",
        "    @classmethod\n",
        "    def add_numbers(cls, a, b):\n",
        "        return a + b\n",
        "\n",
        "    @staticmethod\n",
        "    def subtract_numbers(a, b):\n",
        "        return a - b\n",
        "\n",
        "\n",
        "sum_result = MathOperations.add_numbers(10, 5)\n",
        "print(f\"Sum: {sum_result}\")\n",
        "\n",
        "\n",
        "difference = MathOperations.subtract_numbers(10, 5)\n",
        "print(f\"Difference: {difference}\")\n"
      ],
      "metadata": {
        "colab": {
          "base_uri": "https://localhost:8080/"
        },
        "id": "satd8NOpNFoo",
        "outputId": "eff2f1c4-0e06-4c28-d9f3-b1747b14c634"
      },
      "execution_count": 11,
      "outputs": [
        {
          "output_type": "stream",
          "name": "stdout",
          "text": [
            "Sum: 15\n",
            "Difference: 5\n"
          ]
        }
      ]
    },
    {
      "cell_type": "code",
      "source": [
        "# Implement a class Person with a class method to count the total number of persons created.\n",
        "class Person:\n",
        "    count = 0\n",
        "\n",
        "    def __init__(self, name):\n",
        "        self.name = name\n",
        "        Person.count += 1\n",
        "\n",
        "    @classmethod\n",
        "    def get_person_count(cls):\n",
        "        return f\"Total persons created: {cls.count}\"\n",
        "\n",
        "\n",
        "p1 = Person(\"Alice\")\n",
        "p2 = Person(\"Bob\")\n",
        "p3 = Person(\"Charlie\")\n",
        "\n",
        "\n",
        "print(Person.get_person_count())\n"
      ],
      "metadata": {
        "colab": {
          "base_uri": "https://localhost:8080/"
        },
        "id": "AmChDfmaNe80",
        "outputId": "ecb83653-6a8e-4dab-991e-5c8720ef42c4"
      },
      "execution_count": 12,
      "outputs": [
        {
          "output_type": "stream",
          "name": "stdout",
          "text": [
            "Total persons created: 3\n"
          ]
        }
      ]
    },
    {
      "cell_type": "code",
      "source": [
        "#Write a class Fraction with attributes numerator and denominator. Override the str method to display the\n",
        "#fraction as \"numerator/denominator\".\n",
        "class Fraction:\n",
        "    def __init__(self, numerator, denominator):\n",
        "        if denominator == 0:\n",
        "            raise ValueError(\"Denominator cannot be zero.\")\n",
        "        self.numerator = numerator\n",
        "        self.denominator = denominator\n",
        "\n",
        "    def __str__(self):\n",
        "        return f\"{self.numerator}/{self.denominator}\"\n",
        "\n",
        "\n",
        "frac1 = Fraction(3, 4)\n",
        "frac2 = Fraction(5, 8)\n",
        "\n",
        "\n",
        "print(frac1)\n",
        "print(frac2)\n"
      ],
      "metadata": {
        "colab": {
          "base_uri": "https://localhost:8080/"
        },
        "id": "DlN9HS-dNugB",
        "outputId": "0c290b13-e140-46de-8334-5dec0c9e283b"
      },
      "execution_count": 13,
      "outputs": [
        {
          "output_type": "stream",
          "name": "stdout",
          "text": [
            "3/4\n",
            "5/8\n"
          ]
        }
      ]
    },
    {
      "cell_type": "code",
      "source": [
        "#Demonstrate operator overloading by creating a class Vector and overriding the add method to add two\n",
        "#vectors.\n",
        "class Vector:\n",
        "    def __init__(self, x, y):\n",
        "        self.x = x\n",
        "        self.y = y\n",
        "\n",
        "    def __add__(self, other):\n",
        "        if not isinstance(other, Vector):\n",
        "            return NotImplemented\n",
        "        return Vector(self.x + other.x, self.y + other.y)\n",
        "\n",
        "    def __str__(self):\n",
        "        return f\"({self.x}, {self.y})\"\n",
        "v1 = Vector(2, 3)\n",
        "v2 = Vector(4, 5)\n",
        "\n",
        "result = v1 + v2\n",
        "\n",
        "print(f\"Vector 1: {v1}\")\n",
        "print(f\"Vector 2: {v2}\")\n",
        "print(f\"Sum: {result}\")\n"
      ],
      "metadata": {
        "colab": {
          "base_uri": "https://localhost:8080/"
        },
        "id": "GJHu3AUnN8Z2",
        "outputId": "4bc275c7-ee00-439d-9297-4640253d823c"
      },
      "execution_count": 14,
      "outputs": [
        {
          "output_type": "stream",
          "name": "stdout",
          "text": [
            "Vector 1: (2, 3)\n",
            "Vector 2: (4, 5)\n",
            "Sum: (6, 8)\n"
          ]
        }
      ]
    },
    {
      "cell_type": "code",
      "source": [
        "# Create a class Person with attributes name and age. Add a method greet() that prints \"Hello, my name is\n",
        "#{name} and I am {age} years old.\"\n",
        "class Person:\n",
        "    def __init__(self, name, age):\n",
        "        self.name = name\n",
        "        self.age = age\n",
        "\n",
        "    def greet(self):\n",
        "        print(f\"Hello, my name is {self.name} and I am {self.age} years old.\")\n",
        "\n",
        "\n",
        "person1 = Person(\"Alice\", 25)\n",
        "\n",
        "\n",
        "person1.greet()\n"
      ],
      "metadata": {
        "colab": {
          "base_uri": "https://localhost:8080/"
        },
        "id": "23seTOCGONbz",
        "outputId": "ef663f4c-8c46-4fb8-c13b-a89632da1c46"
      },
      "execution_count": 15,
      "outputs": [
        {
          "output_type": "stream",
          "name": "stdout",
          "text": [
            "Hello, my name is Alice and I am 25 years old.\n"
          ]
        }
      ]
    },
    {
      "cell_type": "code",
      "source": [
        "#Implement a class Student with attributes name and grades. Create a method average_grade() to compute\n",
        "#the average of the grades.\n",
        "class Student:\n",
        "    def __init__(self, name, grades):\n",
        "        self.name = name\n",
        "        self.grades = grades\n",
        "\n",
        "    def average_grade(self):\n",
        "        if not self.grades:\n",
        "            return 0\n",
        "        return sum(self.grades) / len(self.grades)\n",
        "\n",
        "    def display_info(self):\n",
        "        print(f\"Student: {self.name}\")\n",
        "        print(f\"Average Grade: {self.average_grade():.2f}\")\n",
        "\n",
        "\n",
        "student1 = Student(\"Alice\", [85, 90, 78, 92, 88])\n",
        "\n",
        "\n",
        "student1.display_info()\n",
        "\n",
        "\n",
        "\n"
      ],
      "metadata": {
        "colab": {
          "base_uri": "https://localhost:8080/"
        },
        "id": "SJyJFcxqOde5",
        "outputId": "f797aa04-c359-4e1b-c48f-7d9cbb140be7"
      },
      "execution_count": 18,
      "outputs": [
        {
          "output_type": "stream",
          "name": "stdout",
          "text": [
            "Student: Alice\n",
            "Average Grade: 86.60\n"
          ]
        }
      ]
    },
    {
      "cell_type": "code",
      "source": [
        "#Create a class Rectangle with methods set_dimensions() to set the dimensions and area() to calculate the\n",
        "#area.\n",
        "class Rectangle:\n",
        "    def __init__(self, length=1, width=1):\n",
        "        self.length = length\n",
        "        self.width = width\n",
        "\n",
        "    def set_dimensions(self, length, width):\n",
        "        self.length = length\n",
        "        self.width = width\n",
        "\n",
        "    def area(self):\n",
        "        return self.length * self.width\n",
        "\n",
        "    def display_info(self):\n",
        "        print(f\"Rectangle Dimensions: {self.length} x {self.width}\")\n",
        "        print(f\"Area: {self.area()}\")\n",
        "\n",
        "\n",
        "rect = Rectangle()\n",
        "\n",
        "\n",
        "rect.set_dimensions(5, 10)\n",
        "\n",
        "\n",
        "rect.display_info()\n"
      ],
      "metadata": {
        "colab": {
          "base_uri": "https://localhost:8080/"
        },
        "id": "LrUMkbgNQa9F",
        "outputId": "fee77aa1-ab11-45cf-823c-eba06ccb4d7a"
      },
      "execution_count": 19,
      "outputs": [
        {
          "output_type": "stream",
          "name": "stdout",
          "text": [
            "Rectangle Dimensions: 5 x 10\n",
            "Area: 50\n"
          ]
        }
      ]
    },
    {
      "cell_type": "code",
      "source": [
        "#Create a class Employee with a method calculate_salary() that computes the salary based on hours worked\n",
        "#and hourly rate. Create a derived class Manager that adds a bonus to the salary.\n",
        "\n",
        "class Employee:\n",
        "    def __init__(self, name, hours_worked, hourly_rate):\n",
        "        self.name = name\n",
        "        self.hours_worked = hours_worked\n",
        "        self.hourly_rate = hourly_rate\n",
        "\n",
        "    def calculate_salary(self):\n",
        "        return self.hours_worked * self.hourly_rate\n",
        "\n",
        "    def display_salary(self):\n",
        "        print(f\"{self.name}'s Salary: ${self.calculate_salary():.2f}\")\n",
        "\n",
        "\n",
        "class Manager(Employee):\n",
        "    def __init__(self, name, hours_worked, hourly_rate, bonus):\n",
        "        super().__init__(name, hours_worked, hourly_rate)\n",
        "        self.bonus = bonus\n",
        "\n",
        "    def calculate_salary(self):\n",
        "        base_salary = super().calculate_salary()\n",
        "        return base_salary + self.bonus\n",
        "employee = Employee(\"Alice\", 40, 20)\n",
        "employee.display_salary()\n",
        "\n",
        "manager = Manager(\"Bob\", 40, 30, 500)\n",
        "manager.display_salary()\n"
      ],
      "metadata": {
        "colab": {
          "base_uri": "https://localhost:8080/"
        },
        "id": "p1E4VIl_Qu7P",
        "outputId": "63db982e-df38-4e8f-de57-80ddb8bc0535"
      },
      "execution_count": 20,
      "outputs": [
        {
          "output_type": "stream",
          "name": "stdout",
          "text": [
            "Alice's Salary: $800.00\n",
            "Bob's Salary: $1700.00\n"
          ]
        }
      ]
    },
    {
      "cell_type": "code",
      "source": [
        "#Create a class Product with attributes name, price, and quantity. Implement a method total_price() that\n",
        "#calculates the total price of the product.\n",
        "class Product:\n",
        "    def __init__(self, name, price, quantity):\n",
        "        self.name = name\n",
        "        self.price = price\n",
        "        self.quantity = quantity\n",
        "\n",
        "    def total_price(self):\n",
        "        return self.price * self.quantity\n",
        "\n",
        "    def display_product_info(self):\n",
        "        print(f\"Product: {self.name}\")\n",
        "        print(f\"Price per unit: ${self.price:.2f}\")\n",
        "        print(f\"Quantity: {self.quantity}\")\n",
        "        print(f\"Total Price: ${self.total_price():.2f}\")\n",
        "\n",
        "product1 = Product(\"Laptop\", 800, 2)\n",
        "product1.display_product_info()\n",
        "\n",
        "\n"
      ],
      "metadata": {
        "colab": {
          "base_uri": "https://localhost:8080/"
        },
        "id": "8yjlmzaEQ9_F",
        "outputId": "b739f33f-9d8a-4918-a734-2195d434d554"
      },
      "execution_count": 21,
      "outputs": [
        {
          "output_type": "stream",
          "name": "stdout",
          "text": [
            "Product: Laptop\n",
            "Price per unit: $800.00\n",
            "Quantity: 2\n",
            "Total Price: $1600.00\n"
          ]
        }
      ]
    },
    {
      "cell_type": "code",
      "source": [
        "#Create a class Animal with an abstract method sound(). Create two derived classes Cow and Sheep that\n",
        "#implement the sound() method\n",
        "from abc import ABC, abstractmethod\n",
        "\n",
        "class Animal(ABC):\n",
        "    @abstractmethod\n",
        "    def sound(self):\n",
        "        pass\n",
        "\n",
        "\n",
        "class Cow(Animal):\n",
        "    def sound(self):\n",
        "        return \"Moo! \"\n",
        "\n",
        "class Sheep(Animal):\n",
        "    def sound(self):\n",
        "        return \"Baa! \"\n",
        "\n",
        "cow = Cow()\n",
        "sheep = Sheep()\n",
        "\n",
        "print(f\"Cow: {cow.sound()}\")\n",
        "print(f\"Sheep: {sheep.sound()}\")\n"
      ],
      "metadata": {
        "colab": {
          "base_uri": "https://localhost:8080/"
        },
        "id": "AmHro6xARJa4",
        "outputId": "ada69152-0a5b-436a-c4da-e96eb3fab526"
      },
      "execution_count": 25,
      "outputs": [
        {
          "output_type": "stream",
          "name": "stdout",
          "text": [
            "Cow: Moo! \n",
            "Sheep: Baa! \n"
          ]
        }
      ]
    },
    {
      "cell_type": "code",
      "source": [
        "# Create a class Book with attributes title, author, and year_published. Add a method get_book_info() that\n",
        "#returns a formatted string with the book's details.\n",
        "class Book:\n",
        "    def __init__(self, title, author, year_published):\n",
        "        self.title = title\n",
        "        self.author = author\n",
        "        self.year_published = year_published\n",
        "\n",
        "    def get_book_info(self):\n",
        "        return f\"'{self.title}' by {self.author}, published in {self.year_published}.\"\n",
        "\n",
        "book1 = Book(\"To Kill a Mockingbird\", \"Harper Lee\", 1960)\n",
        "\n",
        "print(book1.get_book_info())\n"
      ],
      "metadata": {
        "colab": {
          "base_uri": "https://localhost:8080/"
        },
        "id": "Y9fn4S82RnXX",
        "outputId": "dae60df9-8a52-4287-f30c-45b5a04d421a"
      },
      "execution_count": 26,
      "outputs": [
        {
          "output_type": "stream",
          "name": "stdout",
          "text": [
            "'To Kill a Mockingbird' by Harper Lee, published in 1960.\n"
          ]
        }
      ]
    },
    {
      "cell_type": "code",
      "source": [
        "#Create a class House with attributes address and price. Create a derived class Mansion that adds an\n",
        "#attribute number_of_rooms.\n",
        "class House:\n",
        "    def __init__(self, address, price):\n",
        "        self.address = address\n",
        "        self.price = price\n",
        "\n",
        "    def get_details(self):\n",
        "        return f\"House Address: {self.address}, Price: ${self.price:,}\"\n",
        "class Mansion(House):\n",
        "    def __init__(self, address, price, number_of_rooms):\n",
        "        super().__init__(address, price)\n",
        "        self.number_of_rooms = number_of_rooms\n",
        "\n",
        "    def get_details(self):\n",
        "        return f\"Mansion Address: {self.address}, Price: ${self.price:,}, Rooms: {self.number_of_rooms}\"\n",
        "\n",
        "house1 = House(\"123 Maple St\", 250000)\n",
        "mansion1 = Mansion(\"456 Oak Ave\", 5000000, 10)\n",
        "\n",
        "print(house1.get_details())\n",
        "print(mansion1.get_details())\n"
      ],
      "metadata": {
        "colab": {
          "base_uri": "https://localhost:8080/"
        },
        "id": "i0dghc5JR2nU",
        "outputId": "b5192725-e37d-4b99-e351-16cd53b6f02a"
      },
      "execution_count": 27,
      "outputs": [
        {
          "output_type": "stream",
          "name": "stdout",
          "text": [
            "House Address: 123 Maple St, Price: $250,000\n",
            "Mansion Address: 456 Oak Ave, Price: $5,000,000, Rooms: 10\n"
          ]
        }
      ]
    }
  ]
}